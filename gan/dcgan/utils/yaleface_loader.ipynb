{
 "cells": [
  {
   "cell_type": "code",
   "execution_count": 1,
   "metadata": {
    "collapsed": false,
    "deletable": true,
    "editable": true
   },
   "outputs": [],
   "source": [
    "from glob import glob\n",
    "import re\n",
    "import numpy as np\n",
    "from matplotlib import pyplot\n",
    "import PIL\n",
    "from scipy.misc import imresize\n",
    "%matplotlib inline"
   ]
  },
  {
   "cell_type": "code",
   "execution_count": 2,
   "metadata": {
    "collapsed": false,
    "deletable": true,
    "editable": true
   },
   "outputs": [],
   "source": [
    "\n",
    "class YaleFace(object):\n",
    "\n",
    "    def __init__(self, shuffle=True, height=32, width=32):\n",
    "        self.dataset_dir = '/data/leewk92/generative/yaleface/'\n",
    "        self.pgm_list = glob(self.dataset_dir+'*/*.pgm')\n",
    "        self.shuffle = shuffle\n",
    "        self.height = height\n",
    "        self.width = width\n",
    "        self.offset = 0\n",
    "        self.dataset = self.load_dataset()\n",
    "\n",
    "    def load_dataset(self):\n",
    "        images = []\n",
    "\n",
    "        for pgm_filename in self.pgm_list:\n",
    "            try:\n",
    "                image = self.read_pgm(pgm_filename)\n",
    "                image = self.normalize_image(image)\n",
    "                images.append(image)\n",
    "            except:\n",
    "                print('file reading is failed', pgm_filename)\n",
    "\n",
    "        images = np.array(images)\n",
    "        self.total_num = len(images)\n",
    "        if self.shuffle:\n",
    "            perm = np.arange(self.total_num)\n",
    "            np.random.shuffle(perm)\n",
    "            images = images[perm]\n",
    "        return images\n",
    "\n",
    "\n",
    "    def normalize_image(self, image):\n",
    "        image = imresize(image, (self.height, self.width))\n",
    "        image = np.array(image, dtype=np.float32)\n",
    "        image /=127.5\n",
    "        image -= 1.0\n",
    "        return image\n",
    "\n",
    "\n",
    "    def read_pgm(self, filename, byteorder='>'):\n",
    "        \"\"\"Return image data from a raw PGM file as numpy array.\n",
    "\n",
    "        Format specification: http://netpbm.sourceforge.net/doc/pgm.html\n",
    "\n",
    "        \"\"\"\n",
    "        with open(filename, 'rb') as f:\n",
    "            buffer = f.read()\n",
    "        try:\n",
    "            header, width, height, maxval = re.search(\n",
    "                b\"(^P5\\s(?:\\s*#.*[\\r\\n])*\"\n",
    "                b\"(\\d+)\\s(?:\\s*#.*[\\r\\n])*\"\n",
    "                b\"(\\d+)\\s(?:\\s*#.*[\\r\\n])*\"\n",
    "                b\"(\\d+)\\s(?:\\s*#.*[\\r\\n]\\s)*)\", buffer).groups()\n",
    "        except AttributeError:\n",
    "            raise ValueError(\"Not a raw PGM file: '%s'\" % filename)\n",
    "        return np.frombuffer(buffer,\n",
    "                                dtype='u1' if int(maxval) < 256 else byteorder+'u2',\n",
    "                                count=int(width)*int(height),\n",
    "                                offset=len(header)\n",
    "                                ).reshape((int(height), int(width)))\n",
    "\n",
    "\n",
    "    def next_batch(self, batch_size):\n",
    "        total_num = self.total_num\n",
    "        if batch_size > total_num:\n",
    "            print('error : batch_size > total_num')\n",
    "            return\n",
    "        offset = self.offset\n",
    "        until = offset + batch_size\n",
    "        if until >= total_num:\n",
    "            until -= total_num\n",
    "            batch = np.concatenate((self.dataset[offset:], self.dataset[:until]))\n",
    "        else:\n",
    "            batch = self.dataset[offset:until]\n",
    "        self.offset = until\n",
    "        return batch"
   ]
  },
  {
   "cell_type": "code",
   "execution_count": 3,
   "metadata": {
    "collapsed": false,
    "deletable": true,
    "editable": true
   },
   "outputs": [
    {
     "name": "stdout",
     "output_type": "stream",
     "text": [
      "('file reading is failed', '/data/leewk92/generative/yaleface/yaleB07/yaleB07_P00A-010E-20.pgm')\n",
      "('file reading is failed', '/data/leewk92/generative/yaleface/yaleB30/yaleB30_P00A-010E-20.pgm')\n",
      "('file reading is failed', '/data/leewk92/generative/yaleface/yaleB31/yaleB31_P00A+110E+65.pgm')\n",
      "('file reading is failed', '/data/leewk92/generative/yaleface/yaleB37/yaleB37_P00A-025E+00.pgm')\n",
      "('file reading is failed', '/data/leewk92/generative/yaleface/yaleB10/yaleB10_P00A-025E+00.pgm')\n"
     ]
    }
   ],
   "source": [
    "yf = YaleFace()\n",
    "d = yf.dataset"
   ]
  },
  {
   "cell_type": "code",
   "execution_count": 4,
   "metadata": {
    "collapsed": false,
    "deletable": true,
    "editable": true
   },
   "outputs": [
    {
     "data": {
      "text/plain": [
       "(2447, 32, 32)"
      ]
     },
     "execution_count": 4,
     "metadata": {},
     "output_type": "execute_result"
    }
   ],
   "source": [
    "d.shape"
   ]
  },
  {
   "cell_type": "code",
   "execution_count": 5,
   "metadata": {
    "collapsed": false,
    "deletable": true,
    "editable": true
   },
   "outputs": [
    {
     "data": {
      "image/png": "[encoded data removed]",
      "text/plain": [
       "<matplotlib.figure.Figure at 0x7f5959d50dd0>"
      ]
     },
     "metadata": {},
     "output_type": "display_data"
    }
   ],
   "source": [
    "pyplot.imshow(d[1], pyplot.cm.gray)\n",
    "pyplot.show()"
   ]
  },
  {
   "cell_type": "code",
   "execution_count": 6,
   "metadata": {
    "collapsed": false,
    "deletable": true,
    "editable": true,
    "scrolled": true
   },
   "outputs": [
    {
     "data": {
      "text/plain": [
       "array([[[-0.51372552, -0.50588238, -0.47450978, ..., -0.98431373,\n",
       "         -0.99215686, -1.        ],\n",
       "        [-0.46666664, -0.4588235 , -0.4588235 , ..., -0.96862745,\n",
       "         -0.98431373, -0.99215686],\n",
       "        [-0.45098037, -0.43529409, -0.46666664, ..., -0.94509804,\n",
       "         -0.96078432, -0.97647059],\n",
       "        ..., \n",
       "        [-0.25490195, -0.16862744, -0.12156862, ..., -0.96862745,\n",
       "         -1.        , -0.99215686],\n",
       "        [-0.35686272, -0.27843136, -0.20784312, ..., -0.96862745,\n",
       "         -1.        , -1.        ],\n",
       "        [-0.45098037, -0.38823527, -0.30196077, ..., -0.96862745,\n",
       "         -1.        , -1.        ]],\n",
       "\n",
       "       [[-0.23137254, -0.11372548,  0.00392163, ..., -0.09803921,\n",
       "         -0.26274508, -0.40392154],\n",
       "        [-0.23921567, -0.09019607,  0.03529418, ..., -0.08235294,\n",
       "         -0.27843136, -0.41176468],\n",
       "        [-0.28627449, -0.0745098 ,  0.05098045, ..., -0.15294117,\n",
       "         -0.23921567, -0.41176468],\n",
       "        ..., \n",
       "        [-0.81176472, -0.75686276, -0.7019608 , ..., -0.7019608 ,\n",
       "         -0.74901962, -0.79607844],\n",
       "        [-0.89803922, -0.8509804 , -0.81176472, ..., -0.78039217,\n",
       "         -0.81960785, -0.87450981],\n",
       "        [-0.92941177, -0.90588236, -0.86666667, ..., -0.83529413,\n",
       "         -0.87450981, -0.92156863]],\n",
       "\n",
       "       [[-0.96078432, -0.96078432, -0.96862745, ...,  0.92156863,\n",
       "          0.84313726,  0.72549021],\n",
       "        [-0.96078432, -0.96078432, -0.96862745, ...,  0.78823531,\n",
       "          0.78823531,  0.7019608 ],\n",
       "        [-0.95294118, -0.95294118, -0.96078432, ...,  0.62352943,\n",
       "          0.60784316,  0.5529412 ],\n",
       "        ..., \n",
       "        [-0.96078432, -0.96078432, -0.96078432, ...,  0.02745104,\n",
       "          0.09803927,  0.02745104],\n",
       "        [-0.96862745, -0.96078432, -0.96078432, ...,  0.03529418,\n",
       "          0.03529418, -0.15294117],\n",
       "        [-0.96078432, -0.96862745, -0.96078432, ..., -0.01176471,\n",
       "         -0.13725489, -0.20784312]],\n",
       "\n",
       "       ..., \n",
       "       [[-0.57647061, -0.56078434, -0.51372552, ..., -0.9137255 ,\n",
       "         -0.92156863, -0.94509804],\n",
       "        [-0.54509807, -0.51372552, -0.48235291, ..., -0.83529413,\n",
       "         -0.89803922, -0.93725491],\n",
       "        [-0.51372552, -0.47450978, -0.49019605, ..., -0.81176472,\n",
       "         -0.88235295, -0.93725491],\n",
       "        ..., \n",
       "        [-0.39607841, -0.3098039 , -0.25490195, ..., -0.96862745,\n",
       "         -0.99215686, -0.99215686],\n",
       "        [-0.47450978, -0.40392154, -0.32549018, ..., -0.96862745,\n",
       "         -1.        , -1.        ],\n",
       "        [-0.5529412 , -0.49803919, -0.41176468, ..., -0.95294118,\n",
       "         -0.99215686, -1.        ]],\n",
       "\n",
       "       [[-0.97647059, -0.96862745, -0.92156863, ..., -0.87450981,\n",
       "         -0.85882354, -0.88235295],\n",
       "        [-0.97647059, -0.96862745, -0.9137255 , ..., -0.9137255 ,\n",
       "         -0.94509804, -0.95294118],\n",
       "        [-0.98431373, -0.96078432, -0.93725491, ..., -0.89019608,\n",
       "         -0.96862745, -0.96862745],\n",
       "        ..., \n",
       "        [-0.95294118, -0.99215686, -0.96862745, ..., -0.53725493,\n",
       "         -0.84313726, -0.97647059],\n",
       "        [-0.93725491, -0.96862745, -0.96862745, ..., -0.59215689,\n",
       "         -0.92941177, -0.97647059],\n",
       "        [-0.92941177, -0.94509804, -0.95294118, ..., -0.71764708,\n",
       "         -0.95294118, -0.95294118]],\n",
       "\n",
       "       [[-0.62352943, -0.60000002, -0.54509807, ..., -0.94509804,\n",
       "         -0.97647059, -0.99215686],\n",
       "        [-0.58431375, -0.53725493, -0.49803919, ..., -0.86666667,\n",
       "         -0.92941177, -0.96862745],\n",
       "        [-0.54509807, -0.49019605, -0.49803919, ..., -0.84313726,\n",
       "         -0.89803922, -0.95294118],\n",
       "        ..., \n",
       "        [-0.52156866, -0.45098037, -0.40392154, ..., -0.96862745,\n",
       "         -1.        , -1.        ],\n",
       "        [-0.59215689, -0.52941179, -0.46666664, ..., -0.97647059,\n",
       "         -1.        , -1.        ],\n",
       "        [-0.66274512, -0.60784316, -0.54509807, ..., -0.96862745,\n",
       "         -1.        , -1.        ]]], dtype=float32)"
      ]
     },
     "execution_count": 6,
     "metadata": {},
     "output_type": "execute_result"
    }
   ],
   "source": [
    "yf.next_batch(10)"
   ]
  },
  {
   "cell_type": "code",
   "execution_count": null,
   "metadata": {
    "collapsed": true,
    "deletable": true,
    "editable": true
   },
   "outputs": [],
   "source": []
  }
 ],
 "metadata": {
  "kernelspec": {
   "display_name": "Python 2",
   "language": "python",
   "name": "python2"
  },
  "language_info": {
   "codemirror_mode": {
    "name": "ipython",
    "version": 2
   },
   "file_extension": ".py",
   "mimetype": "text/x-python",
   "name": "python",
   "nbconvert_exporter": "python",
   "pygments_lexer": "ipython2",
   "version": "2.7.12"
  }
 },
 "nbformat": 4,
 "nbformat_minor": 2
}
